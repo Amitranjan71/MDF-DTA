{
 "cells": [
  {
   "cell_type": "code",
   "execution_count": 116,
   "id": "71d88c3f",
   "metadata": {},
   "outputs": [],
   "source": [
    "from rdkit import Chem\n",
    "from rdkit.Chem import AllChem\n",
    "import pandas as pd\n",
    "from tqdm import tqdm\n",
    "\n",
    "# load your dataset\n",
    "df = pd.read_csv('BindingDB_excluding_bad_conformers.csv')\n",
    "\n",
    "# extract unique SMILES strings\n",
    "smiles = df['SMILES']\n",
    "unique_smiles = smiles[138122:]"
   ]
  },
  {
   "cell_type": "code",
   "execution_count": 44,
   "id": "7c0dc94e",
   "metadata": {},
   "outputs": [
    {
     "data": {
      "text/plain": [
       "138122     CC(C)(C)NC(=O)C1CCC2C3CCC4NC(=O)C=CC4(C)C3CCC12C\n",
       "138123    CC(=O)N[C@@H]1[C@H](OCCCCCCN)O[C@@H](CO)[C@@H]...\n",
       "138124    CC(=O)N[C@@H]1[C@H](OCCCCCCNC(=O)CCCC[C@@H]2SC...\n",
       "138125    CC(=O)N[C@@H]1[C@H](OCCCCCCN)O[C@@H](CO)[C@@H]...\n",
       "138126    CC(=O)N[C@@H]1[C@H](OCCCCCCNC(=O)CCCC[C@@H]2SC...\n",
       "                                ...                        \n",
       "458849                    CCOc1ccc(CCc2cc(OC)cc(OC)c2)cc1OC\n",
       "458850                     COc1cc(O)cc(CCc2ccc3c(c2)OCO3)c1\n",
       "458851                        COc1ccc(CCc2cc(O)cc(OC)c2)cc1\n",
       "458852                     COc1cc(O)cc(CCc2ccc(O)c(OC)c2)c1\n",
       "458853                     CN(C)CCCN1c2ccccc2Sc2ccc(Cl)cc21\n",
       "Name: SMILES, Length: 320732, dtype: object"
      ]
     },
     "execution_count": 44,
     "metadata": {},
     "output_type": "execute_result"
    }
   ],
   "source": [
    "unique_smiles"
   ]
  },
  {
   "cell_type": "code",
   "execution_count": 11,
   "id": "241c648d",
   "metadata": {},
   "outputs": [],
   "source": [
    "def check_valid_conformers(smiles_list, seed=0):\n",
    "    valid_smiles = []\n",
    "    invalid_smiles = []\n",
    "    for smiles in tqdm(smiles_list, desc='Checking conformers'):\n",
    "        try:\n",
    "            mol = Chem.MolFromSmiles(smiles)\n",
    "            if mol is None:\n",
    "                invalid_smiles.append(smiles)\n",
    "                continue\n",
    "            mol = AllChem.AddHs(mol)\n",
    "            mol_conf = Chem.AllChem.EmbedMolecule(mol, randomSeed=seed)\n",
    "            if mol_conf == -1:  # check if EmbedMolecule() failed\n",
    "                invalid_smiles.append(smiles)\n",
    "                continue\n",
    "            conformer = mol.GetConformer()\n",
    "            if conformer is None:  # check if EmbedMolecule() returned a valid conformer\n",
    "                invalid_smiles.append(smiles)\n",
    "                continue\n",
    "            coordinates = conformer.GetPositions()\n",
    "            valid_smiles.append(smiles)\n",
    "        except:\n",
    "            invalid_smiles.append(smiles)\n",
    "    return valid_smiles, invalid_smiles\n",
    "\n"
   ]
  },
  {
   "cell_type": "code",
   "execution_count": 45,
   "id": "0d36d658",
   "metadata": {},
   "outputs": [],
   "source": [
    "def check_valid_conformers(smiles_list, seed=0):\n",
    "    valid_smiles_file = open('valid_smile.txt', 'w')\n",
    "    invalid_smiles_file = open('invalid_smile.txt', 'w')\n",
    "    valid_smiles = []\n",
    "    invalid_smiles = []\n",
    "    for smiles in tqdm(smiles_list, desc='Checking conformers'):\n",
    "        try:\n",
    "            mol = Chem.MolFromSmiles(smiles)\n",
    "            if mol is None:\n",
    "                invalid_smiles.append(smiles)\n",
    "                invalid_smiles_file.write(str(smiles), + '\\n')\n",
    "                continue\n",
    "            mol = AllChem.AddHs(mol)\n",
    "            mol_conf = Chem.AllChem.EmbedMolecule(mol, randomSeed=seed)\n",
    "            if mol_conf == -1:  # check if EmbedMolecule() failed\n",
    "                invalid_smiles.append(smiles)\n",
    "                invalid_smiles_file.write(str(smiles) + '\\n')\n",
    "                continue\n",
    "            conformer = mol.GetConformer()\n",
    "            if conformer is None:  # check if EmbedMolecule() returned a valid conformer\n",
    "                invalid_smiles.append(smiles)\n",
    "                invalid_smiles_file.write(str(smiles) + '\\n')\n",
    "                continue\n",
    "            coordinates = conformer.GetPositions()\n",
    "            valid_smiles.append(smiles)\n",
    "            valid_smiles_file.write(str(smiles) + '\\n')\n",
    "        except:\n",
    "            invalid_smiles.append(smiles)\n",
    "            invalid_smiles_file.write(str(smiles) + '\\n')\n",
    "\n",
    "    valid_smiles_file.close()\n",
    "    invalid_smiles_file.close()\n",
    "    \n",
    "    return valid_smiles, invalid_smiles"
   ]
  },
  {
   "cell_type": "code",
   "execution_count": null,
   "id": "598422d1",
   "metadata": {},
   "outputs": [
    {
     "name": "stderr",
     "output_type": "stream",
     "text": [
      "Checking conformers:   0%|        | 1026/320732 [02:15<12:33:54,  7.07it/s]"
     ]
    }
   ],
   "source": [
    "# check for valid conformers for each unique SMILES string\n",
    "valid_smiles, invalid_smiles = check_valid_conformers(unique_smiles)\n"
   ]
  },
  {
   "cell_type": "code",
   "execution_count": 21,
   "id": "3da160b3",
   "metadata": {},
   "outputs": [
    {
     "name": "stdout",
     "output_type": "stream",
     "text": [
      "0\n",
      "458857\n"
     ]
    }
   ],
   "source": [
    "print(len(invalid_smiles))\n",
    "print(len(valid_smiles))"
   ]
  },
  {
   "cell_type": "code",
   "execution_count": 22,
   "id": "07178d75",
   "metadata": {},
   "outputs": [
    {
     "name": "stdout",
     "output_type": "stream",
     "text": [
      "Invalid SMILES strings:\n"
     ]
    }
   ],
   "source": [
    "#print(\"Valid SMILES strings:\")\n",
    "#for smile in valid_smiles:\n",
    "#    print(smile)\n",
    "\n",
    "print(\"Invalid SMILES strings:\")\n",
    "for smile in invalid_smiles:\n",
    "    print(smile)"
   ]
  },
  {
   "cell_type": "code",
   "execution_count": 111,
   "id": "4cad773c",
   "metadata": {},
   "outputs": [],
   "source": [
    "smi_list = [\n",
    "'COC(=O)N[C@@H]1C(O)C(OC2C(O)[C@H](O[C@@H]3C(CO)O[C@@H](OCCCO[C@H]4CCC[C@@H](OCCCO[C@@H]5OC(CO)[C@@H](O[C@@H]6OC(CO)[C@H](O)C(OC7C(O)[C@@H](NC(=O)OC)C([C@H](O)[C@H](O)CO)O[C@H]7C(=O)O)C6O)C(O[C@@H]6OC(C)[C@H](O)C(O)C6O)C5Nc5ccc6ccccc6c5)C4)C(Nc4ccc5ccccc5c4)C3O[C@@H]3OC(C)[C@H](O)C(O)C3O)OC(CO)[C@@H]2O)[C@H](C(=O)[O-])OC1[C@H](O)[C@H](O)CO',\n",
    "'COC(=O)N[C@@H]1C(O)C(OC2C(O)[C@H](O[C@@H]3C(CO)O[C@@H](OCCCO[C@H]4CCC[C@H](OCCCO[C@@H]5OC(CO)[C@@H](O[C@@H]6OC(CO)[C@H](O)C(OC7C(O)[C@@H](NC(=O)OC)C([C@H](O)[C@H](O)CO)O[C@H]7C(=O)O)C6O)C(O[C@@H]6OC(C)[C@H](O)C(O)C6O)C5Nc5ccc6ccccc6c5)C4)C(Nc4ccc5ccccc5c4)C3O[C@@H]3OC(C)[C@H](O)C(O)C3O)OC(CO)[C@@H]2O)[C@H](C(=O)[O-])OC1[C@H](O)[C@H](O)CO',\n",
    "'COC(=O)CCCCCCCCO[C@@H]1OC(CO)[C@@H](O[C@@H]2O[C@@H](CO)[C@H](O)[C@H](O[C@]3(C(=O)O)C[C@@H](O)[C@@H](NC(C)=O)[C@@H](C(O)C(O)CO)O3)[C@@H]2O)[C@@H](O[C@@H]2O[C@H](C)[C@@H](O)[C@H](O)C2O)[C@@H]1NC(C)=O'\n",
    "]"
   ]
  },
  {
   "cell_type": "code",
   "execution_count": 117,
   "id": "a2805dcf",
   "metadata": {},
   "outputs": [
    {
     "data": {
      "text/plain": [
       "260"
      ]
     },
     "execution_count": 117,
     "metadata": {},
     "output_type": "execute_result"
    }
   ],
   "source": [
    "list11 = df['SMILES'].tolist()\n",
    "list1 = list11[393090:393350]\n",
    "len(list1)"
   ]
  },
  {
   "cell_type": "code",
   "execution_count": 118,
   "id": "d3e964ea",
   "metadata": {},
   "outputs": [
    {
     "data": {
      "text/plain": [
       "650"
      ]
     },
     "execution_count": 118,
     "metadata": {},
     "output_type": "execute_result"
    }
   ],
   "source": [
    "list22 = df['SMILES'].tolist()\n",
    "list2 = list22[408400:409050]\n",
    "len(list2)"
   ]
  },
  {
   "cell_type": "code",
   "execution_count": 119,
   "id": "a79d1f5a",
   "metadata": {},
   "outputs": [
    {
     "data": {
      "text/plain": [
       "505"
      ]
     },
     "execution_count": 119,
     "metadata": {},
     "output_type": "execute_result"
    }
   ],
   "source": [
    "list33 = df['SMILES'].tolist()\n",
    "list3 = list33[425345:425850]\n",
    "len(list3)"
   ]
  },
  {
   "cell_type": "code",
   "execution_count": 120,
   "id": "862f2785",
   "metadata": {},
   "outputs": [
    {
     "data": {
      "text/plain": [
       "1415"
      ]
     },
     "execution_count": 120,
     "metadata": {},
     "output_type": "execute_result"
    }
   ],
   "source": [
    "smi_list = list1 + list2 + list3\n",
    "len(smi_list)"
   ]
  },
  {
   "cell_type": "code",
   "execution_count": 121,
   "id": "48b6f2a7",
   "metadata": {},
   "outputs": [],
   "source": [
    "# get the LigandIDs of invalid SMILES strings\n",
    "#invalid_ids = df.loc[df['SMILES'].isin(invalid_smiles), 'LigandID']\n",
    "\n",
    "# remove the invalid conformers from the dataset\n",
    "df1 = df.loc[~df['SMILES'].isin(smi_list)]\n",
    "\n",
    "\n",
    "\n",
    "# print the IDs of invalid conformers\n",
    "#print(\"IDs of invalid conformers:\")\n",
    "#print(invalid_ids.tolist())"
   ]
  },
  {
   "cell_type": "code",
   "execution_count": 122,
   "id": "8352b948",
   "metadata": {},
   "outputs": [
    {
     "data": {
      "text/plain": [
       "(457321, 5)"
      ]
     },
     "execution_count": 122,
     "metadata": {},
     "output_type": "execute_result"
    }
   ],
   "source": [
    "df1.shape"
   ]
  },
  {
   "cell_type": "code",
   "execution_count": null,
   "id": "09d758a2",
   "metadata": {},
   "outputs": [],
   "source": [
    "# save the updated dataset\n",
    "df1.to_csv('BindingDB_excluding_bad_conformers.csv', index=False)"
   ]
  },
  {
   "cell_type": "code",
   "execution_count": null,
   "id": "62c67b71",
   "metadata": {},
   "outputs": [],
   "source": []
  },
  {
   "cell_type": "code",
   "execution_count": 53,
   "id": "7f1a9b28",
   "metadata": {},
   "outputs": [],
   "source": [
    "# To load the list from the .txt file:\n",
    "with open('valid_smiles.txt', 'r') as file:\n",
    "    valid = file.read().splitlines()"
   ]
  },
  {
   "cell_type": "code",
   "execution_count": 23,
   "id": "d558ba18",
   "metadata": {},
   "outputs": [],
   "source": [
    "# open the file and write the list to it\n",
    "f = open('valid_smiles_1000.txt', 'w')\n",
    "f.write(str(valid_smiles))\n",
    "f.close()"
   ]
  },
  {
   "cell_type": "code",
   "execution_count": null,
   "id": "7a2024c1",
   "metadata": {},
   "outputs": [],
   "source": [
    "\n",
    "\n"
   ]
  },
  {
   "cell_type": "code",
   "execution_count": null,
   "id": "1e484401",
   "metadata": {},
   "outputs": [],
   "source": []
  },
  {
   "cell_type": "code",
   "execution_count": null,
   "id": "d0d9b62d",
   "metadata": {},
   "outputs": [],
   "source": []
  },
  {
   "cell_type": "code",
   "execution_count": null,
   "id": "138d79d2",
   "metadata": {},
   "outputs": [],
   "source": []
  }
 ],
 "metadata": {
  "kernelspec": {
   "display_name": "Python 3 (ipykernel)",
   "language": "python",
   "name": "python3"
  },
  "language_info": {
   "codemirror_mode": {
    "name": "ipython",
    "version": 3
   },
   "file_extension": ".py",
   "mimetype": "text/x-python",
   "name": "python",
   "nbconvert_exporter": "python",
   "pygments_lexer": "ipython3",
   "version": "3.9.13"
  }
 },
 "nbformat": 4,
 "nbformat_minor": 5
}
